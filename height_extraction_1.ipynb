{
  "nbformat": 4,
  "nbformat_minor": 0,
  "metadata": {
    "colab": {
      "private_outputs": true,
      "provenance": [],
      "include_colab_link": true
    },
    "kernelspec": {
      "name": "python3",
      "display_name": "Python 3"
    },
    "language_info": {
      "name": "python"
    }
  },
  "cells": [
    {
      "cell_type": "markdown",
      "metadata": {
        "id": "view-in-github",
        "colab_type": "text"
      },
      "source": [
        "<a href=\"https://colab.research.google.com/github/BenjaminNau/zebra-mussel-project/blob/main/height_extraction_1.ipynb\" target=\"_parent\"><img src=\"https://colab.research.google.com/assets/colab-badge.svg\" alt=\"Open In Colab\"/></a>"
      ]
    },
    {
      "cell_type": "markdown",
      "source": [
        "This notebook requires that the user connect to a Google Drive that contains the folder directory containing the project data."
      ],
      "metadata": {
        "id": "gSIsIwKa_1J3"
      }
    },
    {
      "cell_type": "code",
      "source": [
        "from google.colab import drive\n",
        "drive.mount('/content/drive')"
      ],
      "metadata": {
        "id": "ca3VhKYVblgJ"
      },
      "execution_count": null,
      "outputs": []
    },
    {
      "cell_type": "code",
      "source": [
        "!pip install gsheets\n",
        "!pip install gsutil"
      ],
      "metadata": {
        "id": "jupumnFeCl69"
      },
      "execution_count": null,
      "outputs": []
    },
    {
      "cell_type": "code",
      "execution_count": null,
      "metadata": {
        "id": "Gm7_uPvj_Joc"
      },
      "outputs": [],
      "source": [
        "import json\n",
        "import pandas as pd"
      ]
    },
    {
      "cell_type": "markdown",
      "source": [],
      "metadata": {
        "id": "CWW6nLj__zg1"
      }
    },
    {
      "cell_type": "code",
      "source": [
        "# Step 1: Read the JSON data\n",
        "file_path='path-to-your-input-file.csv'\n",
        "with open(file_path, 'r') as file:\n",
        "    data = json.load(file)"
      ],
      "metadata": {
        "id": "1kL8KE_n_ly_"
      },
      "execution_count": null,
      "outputs": []
    },
    {
      "cell_type": "code",
      "source": [
        "# Step 2: Extract the 'height' values\n",
        "heights = [item['height'] for item in data ['predictions']]"
      ],
      "metadata": {
        "id": "3S5Wo1IsAYRA"
      },
      "execution_count": null,
      "outputs": []
    },
    {
      "cell_type": "code",
      "source": [
        "# Step 3: Create a DataFrame\n",
        "df = pd.DataFrame(heights, columns=['height'])"
      ],
      "metadata": {
        "id": "_cIFJs37BS33"
      },
      "execution_count": null,
      "outputs": []
    },
    {
      "cell_type": "code",
      "source": [
        "# Step 4: Export to CSV\n",
        "csv_file_path = 'path-to-your-output-file.csv'\n",
        "df.to_csv(csv_file_path, index=False)"
      ],
      "metadata": {
        "id": "TH3Sf06hBZiu"
      },
      "execution_count": null,
      "outputs": []
    },
    {
      "cell_type": "code",
      "source": [],
      "metadata": {
        "id": "2sc1n1h-CCwF"
      },
      "execution_count": null,
      "outputs": []
    }
  ]
}